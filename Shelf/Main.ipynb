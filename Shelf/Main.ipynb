{
 "cells": [
  {
   "cell_type": "code",
   "execution_count": null,
   "metadata": {},
   "outputs": [
    {
     "name": "stdout",
     "output_type": "stream",
     "text": [
      "Installing mujoco...\n",
      "Requirement already satisfied: mujoco in /home/ian/Documents/Repos/Physics/Landing_Lunar/RL/lib/python3.10/site-packages (3.2.7)\n",
      "Requirement already satisfied: absl-py in /home/ian/Documents/Repos/Physics/Landing_Lunar/RL/lib/python3.10/site-packages (from mujoco) (2.1.0)\n",
      "Requirement already satisfied: etils[epath] in /home/ian/Documents/Repos/Physics/Landing_Lunar/RL/lib/python3.10/site-packages (from mujoco) (1.12.0)\n",
      "Requirement already satisfied: glfw in /home/ian/Documents/Repos/Physics/Landing_Lunar/RL/lib/python3.10/site-packages (from mujoco) (2.8.0)\n",
      "Requirement already satisfied: numpy in /home/ian/Documents/Repos/Physics/Landing_Lunar/RL/lib/python3.10/site-packages (from mujoco) (2.2.2)\n",
      "Requirement already satisfied: pyopengl in /home/ian/Documents/Repos/Physics/Landing_Lunar/RL/lib/python3.10/site-packages (from mujoco) (3.1.9)\n",
      "Requirement already satisfied: fsspec in /home/ian/Documents/Repos/Physics/Landing_Lunar/RL/lib/python3.10/site-packages (from etils[epath]->mujoco) (2025.2.0)\n",
      "Requirement already satisfied: importlib_resources in /home/ian/Documents/Repos/Physics/Landing_Lunar/RL/lib/python3.10/site-packages (from etils[epath]->mujoco) (6.5.2)\n",
      "Requirement already satisfied: typing_extensions in /home/ian/Documents/Repos/Physics/Landing_Lunar/RL/lib/python3.10/site-packages (from etils[epath]->mujoco) (4.12.2)\n",
      "Requirement already satisfied: zipp in /home/ian/Documents/Repos/Physics/Landing_Lunar/RL/lib/python3.10/site-packages (from etils[epath]->mujoco) (3.21.0)\n"
     ]
    },
    {
     "ename": "ModuleNotFoundError",
     "evalue": "No module named 'mujoco'",
     "output_type": "error",
     "traceback": [
      "\u001b[0;31m---------------------------------------------------------------------------\u001b[0m",
      "\u001b[0;31mModuleNotFoundError\u001b[0m                       Traceback (most recent call last)",
      "Cell \u001b[0;32mIn[3], line 2\u001b[0m\n\u001b[1;32m      1\u001b[0m \u001b[38;5;28;01mtry\u001b[39;00m:\n\u001b[0;32m----> 2\u001b[0m     \u001b[38;5;28;01mimport\u001b[39;00m\u001b[38;5;250m \u001b[39m\u001b[38;5;21;01mmujoco\u001b[39;00m\n\u001b[1;32m      3\u001b[0m     \u001b[38;5;28;01mfrom\u001b[39;00m\u001b[38;5;250m \u001b[39m\u001b[38;5;21;01mmujoco\u001b[39;00m\u001b[38;5;250m \u001b[39m\u001b[38;5;28;01mimport\u001b[39;00m viewer\n",
      "\u001b[0;31mModuleNotFoundError\u001b[0m: No module named 'mujoco'",
      "\nDuring handling of the above exception, another exception occurred:\n",
      "\u001b[0;31mModuleNotFoundError\u001b[0m                       Traceback (most recent call last)",
      "Cell \u001b[0;32mIn[3], line 7\u001b[0m\n\u001b[1;32m      5\u001b[0m     \u001b[38;5;28mprint\u001b[39m(\u001b[38;5;124m\"\u001b[39m\u001b[38;5;124mInstalling mujoco...\u001b[39m\u001b[38;5;124m\"\u001b[39m)\n\u001b[1;32m      6\u001b[0m     get_ipython()\u001b[38;5;241m.\u001b[39msystem(\u001b[38;5;124m'\u001b[39m\u001b[38;5;124mpip install mujoco\u001b[39m\u001b[38;5;124m'\u001b[39m)\n\u001b[0;32m----> 7\u001b[0m     \u001b[38;5;28;01mimport\u001b[39;00m\u001b[38;5;250m \u001b[39m\u001b[38;5;21;01mmujoco\u001b[39;00m\n\u001b[1;32m      8\u001b[0m     \u001b[38;5;28;01mfrom\u001b[39;00m\u001b[38;5;250m \u001b[39m\u001b[38;5;21;01mmujoco\u001b[39;00m\u001b[38;5;250m \u001b[39m\u001b[38;5;28;01mimport\u001b[39;00m viewer\n\u001b[1;32m     10\u001b[0m \u001b[38;5;28;01mimport\u001b[39;00m\u001b[38;5;250m \u001b[39m\u001b[38;5;21;01mnumpy\u001b[39;00m\u001b[38;5;250m \u001b[39m\u001b[38;5;28;01mas\u001b[39;00m\u001b[38;5;250m \u001b[39m\u001b[38;5;21;01mnp\u001b[39;00m\n",
      "\u001b[0;31mModuleNotFoundError\u001b[0m: No module named 'mujoco'"
     ]
    },
    {
     "ename": "",
     "evalue": "",
     "output_type": "error",
     "traceback": [
      "\u001b[1;31mThe Kernel crashed while executing code in the current cell or a previous cell. \n",
      "\u001b[1;31mPlease review the code in the cell(s) to identify a possible cause of the failure. \n",
      "\u001b[1;31mClick <a href='https://aka.ms/vscodeJupyterKernelCrash'>here</a> for more info. \n",
      "\u001b[1;31mView Jupyter <a href='command:jupyter.viewOutput'>log</a> for further details."
     ]
    }
   ],
   "source": [
    "import mujoco\n",
    "from mujoco import viewer\n",
    "import numpy as np\n",
    "import time\n",
    "import threading\n",
    "\n",
    "# Load the model from the XML file\n",
    "model = mujoco.MjModel.from_xml_path('../skydio_x2/scene.xml')\n",
    "\n",
    "# Create a data object\n",
    "data = mujoco.MjData(model)\n",
    "\n",
    "# Initialize control inputs to zero\n",
    "data.ctrl[:] = 0.0\n",
    "\n",
    "# Define thrust levels\n",
    "max_thrust = 5\n",
    "return_thrust = 3\n",
    "increment = 0.1  # Define the increment step\n",
    "\n",
    "def f(x):\n",
    "    if x > 3.41:\n",
    "        return 3.15  # Fix thrust at 2 after x = 3.41\n",
    "    fx = -(x-2)**2 + 4\n",
    "    return max(fx, 0)  # Simplified return statement\n",
    "\n",
    "def thrust_control():\n",
    "    current_time = 0.0\n",
    "    # Increase thrust to max_thrust\n",
    "    while True:\n",
    "        thrust_value = f(current_time)  # Use the function f to determine thrust\n",
    "        data.ctrl[:] = [thrust_value] * model.nu  # Set all control inputs to thrust_value\n",
    "        mujoco.mj_step(model, data)\n",
    "        print(f\"Current time: {current_time:.2f}, Thrust value: {thrust_value:.2f}\")  # Print time and thrust value\n",
    "        current_time += 0.01\n",
    "        if current_time > 10:\n",
    "            current_time = 0\n",
    "        time.sleep(0.01)  # Adjust as needed\n",
    "\n",
    "# Start the thrust control in a separate thread.\n",
    "thrust_thread = threading.Thread(target=thrust_control, daemon=True)\n",
    "thrust_thread.start()\n",
    "\n",
    "# Launch the viewer on the main thread.\n",
    "with viewer.launch(model, data) as vis:\n",
    "    while vis.is_running:\n",
    "        vis.render()\n"
   ]
  },
  {
   "cell_type": "code",
   "execution_count": 2,
   "metadata": {},
   "outputs": [
    {
     "name": "stdout",
     "output_type": "stream",
     "text": [
      "Requirement already satisfied: mujoco in /home/ian/Documents/Repos/Physics/Landing_Lunar/RL/lib/python3.10/site-packages (3.2.7)\n",
      "Requirement already satisfied: absl-py in /home/ian/Documents/Repos/Physics/Landing_Lunar/RL/lib/python3.10/site-packages (from mujoco) (2.1.0)\n",
      "Requirement already satisfied: etils[epath] in /home/ian/Documents/Repos/Physics/Landing_Lunar/RL/lib/python3.10/site-packages (from mujoco) (1.12.0)\n",
      "Requirement already satisfied: glfw in /home/ian/Documents/Repos/Physics/Landing_Lunar/RL/lib/python3.10/site-packages (from mujoco) (2.8.0)\n",
      "Requirement already satisfied: numpy in /home/ian/Documents/Repos/Physics/Landing_Lunar/RL/lib/python3.10/site-packages (from mujoco) (2.2.2)\n",
      "Requirement already satisfied: pyopengl in /home/ian/Documents/Repos/Physics/Landing_Lunar/RL/lib/python3.10/site-packages (from mujoco) (3.1.9)\n",
      "Requirement already satisfied: fsspec in /home/ian/Documents/Repos/Physics/Landing_Lunar/RL/lib/python3.10/site-packages (from etils[epath]->mujoco) (2025.2.0)\n",
      "Requirement already satisfied: importlib_resources in /home/ian/Documents/Repos/Physics/Landing_Lunar/RL/lib/python3.10/site-packages (from etils[epath]->mujoco) (6.5.2)\n",
      "Requirement already satisfied: typing_extensions in /home/ian/Documents/Repos/Physics/Landing_Lunar/RL/lib/python3.10/site-packages (from etils[epath]->mujoco) (4.12.2)\n",
      "Requirement already satisfied: zipp in /home/ian/Documents/Repos/Physics/Landing_Lunar/RL/lib/python3.10/site-packages (from etils[epath]->mujoco) (3.21.0)\n"
     ]
    }
   ],
   "source": [
    "!pip install mujoco"
   ]
  }
 ],
 "metadata": {
  "kernelspec": {
   "display_name": "RL",
   "language": "python",
   "name": "python3"
  },
  "language_info": {
   "codemirror_mode": {
    "name": "ipython",
    "version": 3
   },
   "file_extension": ".py",
   "mimetype": "text/x-python",
   "name": "python",
   "nbconvert_exporter": "python",
   "pygments_lexer": "ipython3",
   "version": "3.10.16"
  }
 },
 "nbformat": 4,
 "nbformat_minor": 2
}
